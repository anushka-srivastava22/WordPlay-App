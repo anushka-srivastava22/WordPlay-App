{
 "cells": [
  {
   "cell_type": "code",
   "execution_count": 1,
   "id": "b3881d12",
   "metadata": {},
   "outputs": [
    {
     "data": {
      "text/plain": [
       "['Bon_Hope', 'admin', 'config', 'demo', 'local', 'mylibSarthak']"
      ]
     },
     "execution_count": 1,
     "metadata": {},
     "output_type": "execute_result"
    }
   ],
   "source": [
    "from pymongo import MongoClient\n",
    "\n",
    "client = MongoClient('mongodb://localhost:27017')\n",
    "client.list_database_names()"
   ]
  },
  {
   "cell_type": "code",
   "execution_count": 2,
   "id": "86fa972f",
   "metadata": {},
   "outputs": [],
   "source": [
    "mydb = client[\"WP\"]\n",
    "mycollection = mydb[\"word_probab\"]"
   ]
  },
  {
   "cell_type": "code",
   "execution_count": 3,
   "id": "76314a7d",
   "metadata": {},
   "outputs": [
    {
     "data": {
      "text/plain": [
       "['Bon_Hope', 'WP', 'admin', 'config', 'demo', 'local', 'mylibSarthak']"
      ]
     },
     "execution_count": 3,
     "metadata": {},
     "output_type": "execute_result"
    }
   ],
   "source": [
    "developer = { \"name\": \"Lini\", \"address\": \"Sweden\" }\n",
    "mycollection.insert_one(developer)\n",
    "\n",
    "client.list_database_names()"
   ]
  },
  {
   "cell_type": "code",
   "execution_count": 4,
   "id": "a50cca06",
   "metadata": {},
   "outputs": [
    {
     "name": "stdout",
     "output_type": "stream",
     "text": [
      "{'_id': ObjectId('60f08e8332299216d01af467'), 'name': 'Lini', 'address': 'Sweden'}\n"
     ]
    }
   ],
   "source": [
    "mycollection.count_documents({})\n",
    "for doc in mycollection.find():\n",
    "    print(doc)"
   ]
  },
  {
   "cell_type": "code",
   "execution_count": 5,
   "id": "93134bc2",
   "metadata": {},
   "outputs": [
    {
     "data": {
      "text/plain": [
       "<pymongo.results.DeleteResult at 0x16bd504a648>"
      ]
     },
     "execution_count": 5,
     "metadata": {},
     "output_type": "execute_result"
    }
   ],
   "source": [
    "# Deleting all the documents from the collection\n",
    "\n",
    "mycollection.delete_many({})"
   ]
  },
  {
   "cell_type": "code",
   "execution_count": 6,
   "id": "ae4cf33b",
   "metadata": {},
   "outputs": [
    {
     "data": {
      "text/plain": [
       "0"
      ]
     },
     "execution_count": 6,
     "metadata": {},
     "output_type": "execute_result"
    }
   ],
   "source": [
    "client.list_database_names()\n",
    "mycollection.count_documents({})"
   ]
  },
  {
   "cell_type": "code",
   "execution_count": 7,
   "id": "122cc841",
   "metadata": {},
   "outputs": [],
   "source": [
    "for doc in mycollection.find():\n",
    "    print(doc)"
   ]
  },
  {
   "cell_type": "code",
   "execution_count": 8,
   "id": "1b244a4c",
   "metadata": {},
   "outputs": [
    {
     "name": "stdout",
     "output_type": "stream",
     "text": [
      "List of collections before deletion\n",
      "--------------------------\n",
      "word_probab\n",
      "\n",
      "List of collections after deletion\n",
      "--------------------------\n"
     ]
    }
   ],
   "source": [
    "# Deleting a collection\n",
    "\n",
    "print(\"List of collections before deletion\\n--------------------------\")\n",
    "for x in mydb.list_collection_names():\n",
    "  print(x)\n",
    "\n",
    "\n",
    "\n",
    "mycollection.drop()\n",
    "\n",
    "print(\"\\nList of collections after deletion\\n--------------------------\")\n",
    "for x in mydb.list_collection_names():\n",
    "  print(x)"
   ]
  },
  {
   "cell_type": "code",
   "execution_count": null,
   "id": "301cbca3",
   "metadata": {},
   "outputs": [],
   "source": []
  }
 ],
 "metadata": {
  "kernelspec": {
   "display_name": "Python 3",
   "language": "python",
   "name": "python3"
  },
  "language_info": {
   "codemirror_mode": {
    "name": "ipython",
    "version": 3
   },
   "file_extension": ".py",
   "mimetype": "text/x-python",
   "name": "python",
   "nbconvert_exporter": "python",
   "pygments_lexer": "ipython3",
   "version": "3.6.13"
  }
 },
 "nbformat": 4,
 "nbformat_minor": 5
}
